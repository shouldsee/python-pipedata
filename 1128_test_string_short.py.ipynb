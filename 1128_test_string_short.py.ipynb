{
 "cells": [
  {
   "cell_type": "code",
   "execution_count": 16,
   "metadata": {},
   "outputs": [
    {
     "name": "stdout",
     "output_type": "stream",
     "text": [
      "FunctionDef(name='out10', body=[Assign(targets=[Name(id='number', ctx=Store())], value=Call(func=Attribute(value=Call(func=Attribute(value=Call(func=Name(id='open', ctx=Load()), args=[Attribute(value=Call(func=Name(id='numberFile', ctx=Load()), args=[], keywords=[], starargs=None, kwargs=None), attr='path', ctx=Load()), Str(s='r')], keywords=[], starargs=None, kwargs=None), attr='read', ctx=Load()), args=[], keywords=[], starargs=None, kwargs=None), attr='strip', ctx=Load()), args=[], keywords=[], starargs=None, kwargs=None)), Assign(targets=[Name(id='letter', ctx=Store())], value=Call(func=Attribute(value=Call(func=Attribute(value=Call(func=Name(id='open', ctx=Load()), args=[Attribute(value=Call(func=Name(id='letterFile', ctx=Load()), args=[], keywords=[], starargs=None, kwargs=None), attr='path', ctx=Load()), Str(s='r')], keywords=[], starargs=None, kwargs=None), attr='read', ctx=Load()), args=[], keywords=[], starargs=None, kwargs=None), attr='strip', ctx=Load()), args=[], keywords=[], starargs=None, kwargs=None)), With(context_expr=Call(func=Attribute(value=Subscript(value=Attribute(value=Name(id='self', ctx=Load()), attr='output_kw', ctx=Load()), slice=Index(value=Str(s='OUT')), ctx=Load()), attr='open', ctx=Load()), args=[Str(s='w')], keywords=[], starargs=None, kwargs=None), optional_vars=Name(id='f', ctx=Store()), body=[Expr(value=Call(func=Attribute(value=Name(id='f', ctx=Load()), attr='write', ctx=Load()), args=[BinOp(left=BinOp(left=Num(n=25), op=Mult(), right=BinOp(left=Name(id='number', ctx=Load()), op=Add(), right=Name(id='letter', ctx=Load()))), op=Add(), right=Str(s='\\n'))], keywords=[], starargs=None, kwargs=None))]), Return(value=None)], decorator_list=[])\n"
     ]
    }
   ],
   "source": [
    "%%python2\n",
    "s = r'''\n",
    "def out10(  self, numberFile, letterFile ):\n",
    "    number = open( numberFile().path, 'r').read().strip()\n",
    "    letter = open( letterFile().path, 'r').read().strip()\n",
    "    with self.output_kw['OUT'].open(\"w\") as f:\n",
    "        f.write( 25 * (number+letter)+'\\n')\n",
    "    return\n",
    "\n",
    "'''\n",
    "import ast\n",
    "ast.dump(ast.parse(s))\n",
    "from _ast_util import ast_proj\n",
    "print ast_proj(s)\n"
   ]
  },
  {
   "cell_type": "code",
   "execution_count": 78,
   "metadata": {},
   "outputs": [
    {
     "name": "stdout",
     "output_type": "stream",
     "text": [
      "21\n",
      "          0 LOAD_ATTR           2 (2)\n",
      "          3 STORE_FAST          3 (3)\n",
      "          6 LOAD_GLOBAL         3 (3)\n",
      "          9 LOAD_FAST           3 (3)\n",
      "         12 CALL_FUNCTION       1\n",
      "         15 PRINT_ITEM     \n",
      "         16 PRINT_NEWLINE  \n",
      "         17 LOAD_CONST          3 (3)\n",
      "         20 LOAD_CONST          0 (0)\n",
      "         23 IMPORT_NAME         4 (4)\n",
      "         26 STORE_FAST          4 (4)\n",
      "         29 LOAD_GLOBAL         0 (0)\n",
      "         32 LOAD_ATTR           1 (1)\n",
      "         35 CALL_FUNCTION       0\n",
      "         38 LOAD_ATTR           5 (5)\n",
      "         41 LOAD_ATTR           6 (6)\n",
      "         44 LOAD_FAST           3 (3)\n",
      "         47 SLICE+1        \n",
      "         48 STORE_FAST          5 (5)\n",
      "         51 LOAD_FAST           5 (5)\n",
      "         54 LOAD_FAST           4 (4)\n",
      "         57 LOAD_ATTR           4 (4)\n",
      "         60 LOAD_FAST           5 (5)\n",
      "         63 CALL_FUNCTION       1\n",
      "         66 BUILD_TUPLE         2\n",
      "         69 PRINT_ITEM     \n",
      "         70 PRINT_NEWLINE  \n",
      "         71 LOAD_GLOBAL         7 (7)\n",
      "         74 RETURN_VALUE   \n",
      "('j\\x02\\x00}\\x03\\x00t\\x03\\x00|\\x03\\x00\\x83\\x01\\x00GHd\\x03\\x00d\\x00\\x00l\\x04\\x00}\\x04\\x00t\\x00\\x00j\\x01\\x00\\x83\\x00\\x00j\\x05\\x00j\\x06\\x00|\\x03\\x00\\x1f}\\x05\\x00|\\x05\\x00|\\x04\\x00j\\x04\\x00|\\x05\\x00\\x83\\x01\\x00f\\x02\\x00GHt\\x07\\x00S', None)\n",
      "[]\n",
      "21\n",
      "          0 LOAD_ATTR           2 (2)\n",
      "          3 STORE_FAST          3 (3)\n",
      "          6 LOAD_GLOBAL         3 (3)\n",
      "          9 LOAD_FAST           3 (3)\n",
      "         12 CALL_FUNCTION       1\n",
      "         15 PRINT_ITEM     \n",
      "         16 PRINT_NEWLINE  \n",
      "         17 LOAD_CONST          3 (3)\n",
      "         20 LOAD_CONST          0 (0)\n",
      "         23 IMPORT_NAME         4 (4)\n",
      "         26 STORE_FAST          4 (4)\n",
      "         29 LOAD_GLOBAL         0 (0)\n",
      "         32 LOAD_ATTR           1 (1)\n",
      "         35 CALL_FUNCTION       0\n",
      "         38 LOAD_ATTR           5 (5)\n",
      "         41 LOAD_ATTR           6 (6)\n",
      "         44 LOAD_FAST           3 (3)\n",
      "         47 SLICE+1        \n",
      "         48 STORE_FAST          5 (5)\n",
      "         51 LOAD_FAST           5 (5)\n",
      "         54 LOAD_FAST           4 (4)\n",
      "         57 LOAD_ATTR           4 (4)\n",
      "         60 LOAD_FAST           5 (5)\n",
      "         63 CALL_FUNCTION       1\n",
      "         66 BUILD_TUPLE         2\n",
      "         69 PRINT_ITEM     \n",
      "         70 PRINT_NEWLINE  \n",
      "         71 LOAD_GLOBAL         7 (7)\n",
      "         74 RETURN_VALUE   \n",
      "('j\\x02\\x00}\\x03\\x00t\\x03\\x00|\\x03\\x00\\x83\\x01\\x00GHd\\x03\\x00d\\x00\\x00l\\x04\\x00}\\x04\\x00t\\x00\\x00j\\x01\\x00\\x83\\x00\\x00j\\x05\\x00j\\x06\\x00|\\x03\\x00\\x1f}\\x05\\x00|\\x05\\x00|\\x04\\x00j\\x04\\x00|\\x05\\x00\\x83\\x01\\x00f\\x02\\x00GHt\\x07\\x00S', None)\n",
      "[123]\n"
     ]
    },
    {
     "data": {
      "text/plain": [
       "'g'"
      ]
     },
     "execution_count": 78,
     "metadata": {},
     "output_type": "execute_result"
    }
   ],
   "source": [
    "from pipedata import cached_property\n",
    "some=[]\n",
    "import inspect\n",
    "class a():\n",
    "    @cached_property\n",
    "    def f(self):\n",
    "        b =1\n",
    "        c = 2\n",
    "        a= inspect.currentframe().f_lasti\n",
    "        print (bytes(a))\n",
    "        import dis\n",
    "        s= inspect.currentframe().f_code.co_code[a:]\n",
    "        print (s, dis.dis(s))\n",
    "#         print a\n",
    "#         print (bytes(inspect.currentframe().f_lasti,))\n",
    "# co_names\n",
    "        return some\n",
    "print a().f\n",
    "some.append(123)\n",
    "print a().f\n",
    "def g():\n",
    "#     ...\n",
    "    pass\n",
    "g.func_code.co_name"
   ]
  },
  {
   "cell_type": "code",
   "execution_count": 1,
   "metadata": {},
   "outputs": [],
   "source": [
    "!touch tests/__init__.py"
   ]
  },
  {
   "cell_type": "code",
   "execution_count": 6,
   "metadata": {},
   "outputs": [
    {
     "name": "stdout",
     "output_type": "stream",
     "text": [
      "[FRAME_INIT] _symbolicInputNode, _symbolicOutputNode\r\n",
      "[Dillable]\r\n",
      ".\r\n",
      "----------------------------------------------------------------------\r\n",
      "Ran 1 test in 0.062s\r\n",
      "\r\n",
      "OK\r\n"
     ]
    }
   ],
   "source": [
    "!python2 test.py"
   ]
  },
  {
   "cell_type": "code",
   "execution_count": null,
   "metadata": {},
   "outputs": [],
   "source": []
  },
  {
   "cell_type": "code",
   "execution_count": 23,
   "metadata": {},
   "outputs": [],
   "source": [
    "# lambda : raise Exception()"
   ]
  },
  {
   "cell_type": "code",
   "execution_count": 44,
   "metadata": {},
   "outputs": [
    {
     "name": "stdout",
     "output_type": "stream",
     "text": [
      "Overwriting test.py\n"
     ]
    }
   ],
   "source": []
  },
  {
   "cell_type": "code",
   "execution_count": 40,
   "metadata": {},
   "outputs": [
    {
     "data": {
      "text/plain": [
       "object"
      ]
     },
     "execution_count": 40,
     "metadata": {},
     "output_type": "execute_result"
    }
   ],
   "source": [
    "a = object()\n",
    "# a.__"
   ]
  },
  {
   "cell_type": "code",
   "execution_count": null,
   "metadata": {},
   "outputs": [],
   "source": [
    "import dill\n",
    "d = dill.loads(open('test_build/pipe.py.index','r').read())\n",
    "d"
   ]
  },
  {
   "cell_type": "code",
   "execution_count": 18,
   "metadata": {
    "scrolled": true
   },
   "outputs": [
    {
     "name": "stdout",
     "output_type": "stream",
     "text": [
      "[FRAME_INIT] _symbolicInputNode, _symbolicOutputNode\n",
      "[indexFile] BaseFile('tests/example_string_short.py.index')\n",
      "(0, 'tests-number.txt')\n",
      "(1, 'tests-letter.txt')\n",
      "[CMD]\n",
      "    echo \"1\"> tests-number.txt; \n",
      "    echo a>tests-letter.txt; \n",
      "            \n",
      "\n",
      "[FRAME_INIT] _symbolicInputNode, _symbolicOutputNode\n",
      "[indexFile] BaseFile('pipe.py.index')\n",
      "(0, 'tests-number.txt')\n",
      "(1, 'tests-letter.txt')\n",
      "START--------------------\n",
      "CHECKING_NODE:<Node with func:_symbolicInputNode>\n",
      "(<Node with func:_symbolicInputNode>, 1, ['INDEX_ABSENT'])\n",
      "CHANGED_CODE:<Node with func:_symbolicInputNode>\n",
      "RUNNING:<Node with func:_symbolicInputNode>\n",
      "CHECKING_NODE:<Node with func:InputFileNode_0000:tag:tests-number.txt>\n",
      "(<Node with func:InputFileNode_0000:tag:tests-number.txt>, 1, ['INDEX_ABSENT'])\n",
      "CHANGED_CODE:<Node with func:InputFileNode_0000:tag:tests-number.txt>\n",
      "RUNNING:<Node with func:InputFileNode_0000:tag:tests-number.txt>\n",
      "CHECKING_NODE:<Node with func:InputFileNode_0001:tag:tests-letter.txt>\n",
      "(<Node with func:InputFileNode_0001:tag:tests-letter.txt>, 1, ['INDEX_ABSENT'])\n",
      "CHANGED_CODE:<Node with func:InputFileNode_0001:tag:tests-letter.txt>\n",
      "RUNNING:<Node with func:InputFileNode_0001:tag:tests-letter.txt>\n",
      "CHECKING_NODE:<Node with func:out5>\n",
      "(<Node with func:out5>, 1, ['INDEX_ABSENT'])\n",
      "CHANGED_CODE:<Node with func:out5>\n",
      "RUNNING:<Node with func:out5>\n",
      "CHECKING_NODE:<Node with func:out10>\n",
      "(<Node with func:out10>, 1, ['INDEX_ABSENT'])\n",
      "CHANGED_CODE:<Node with func:out10>\n",
      "RUNNING:<Node with func:out10>\n",
      "CHECKING_NODE:<Node with func:out15>\n",
      "(<Node with func:out15>, 1, ['INDEX_ABSENT'])\n",
      "CHANGED_CODE:<Node with func:out15>\n",
      "RUNNING:<Node with func:out15>\n",
      "CHECKING_NODE:<Node with func:make_combined>\n",
      "(<Node with func:make_combined>, 1, ['INDEX_ABSENT'])\n",
      "CHANGED_CODE:<Node with func:make_combined>\n",
      "RUNNING:<Node with func:make_combined>\n",
      "END--------------------\n",
      "1a1a1a1a1a\n",
      "1a1a1a1a1a1a1a1a1a1a\n",
      "1a1a1a1a1a1a1a1a1a1a1a1a1a1a1a\n",
      "\n",
      "[FRAME_INIT] _symbolicInputNode, _symbolicOutputNode\n",
      "[indexFile] BaseFile('pipe.py.index')\n",
      "(0, 'tests-number.txt')\n",
      "(1, 'tests-letter.txt')\n",
      "START--------------------\n",
      "CHECKING_NODE:<Node with func:_symbolicInputNode>\n",
      "[CHANGED_SAME]:<Node with func:_symbolicInputNode>\n",
      "CHECKING_NODE:<Node with func:InputFileNode_0000:tag:tests-number.txt>\n",
      "[CHANGED_SAME]:<Node with func:InputFileNode_0000:tag:tests-number.txt>\n",
      "CHECKING_NODE:<Node with func:InputFileNode_0001:tag:tests-letter.txt>\n",
      "[CHANGED_SAME]:<Node with func:InputFileNode_0001:tag:tests-letter.txt>\n",
      "CHECKING_NODE:<Node with func:out5>\n",
      "[CHANGED_SAME]:<Node with func:out5>\n",
      "CHECKING_NODE:<Node with func:out10>\n",
      "[CHANGED_SAME]:<Node with func:out10>\n",
      "CHECKING_NODE:<Node with func:out15>\n",
      "[CHANGED_SAME]:<Node with func:out15>\n",
      "CHECKING_NODE:<Node with func:out10>\n",
      "[CHANGED_SAME]:<Node with func:out10>\n",
      "CHECKING_NODE:<Node with func:make_combined>\n",
      "[CHANGED_SAME]:<Node with func:make_combined>\n",
      "END--------------------\n",
      ".\n",
      "----------------------------------------------------------------------\n",
      "Ran 1 test in 0.064s\n",
      "\n",
      "OK\n"
     ]
    }
   ],
   "source": [
    "!python2 test.py testCase.test_code_syno_change"
   ]
  },
  {
   "cell_type": "code",
   "execution_count": 28,
   "metadata": {},
   "outputs": [
    {
     "name": "stdout",
     "output_type": "stream",
     "text": [
      "[FRAME_INIT] _symbolicInputNode, _symbolicOutputNode\n",
      "[indexFile] BaseFile('tests/example_string_short.py.index')\n",
      "(0, 'tests-number.txt')\n",
      "(1, 'tests-letter.txt')\n",
      "[CMD]\n",
      "    echo \"1\"> tests-number.txt; \n",
      "    echo a>tests-letter.txt; \n",
      "            \n",
      "\n",
      "[FRAME_INIT] _symbolicInputNode, _symbolicOutputNode\n",
      "[indexFile] BaseFile('pipe.py.index')\n",
      "(0, 'tests-number.txt')\n",
      "(1, 'tests-letter.txt')\n",
      "START--------------------\n",
      "CHECKING_NODE:<Node with func:_symbolicInputNode>\n",
      "(<Node with func:_symbolicInputNode>, 1, ['INDEX_ABSENT'])\n",
      "CHANGED_CODE:<Node with func:_symbolicInputNode>\n",
      "RUNNING:<Node with func:_symbolicInputNode>\n",
      "CHECKING_NODE:<Node with func:InputFileNode_0000:tag:tests-number.txt>\n",
      "(<Node with func:InputFileNode_0000:tag:tests-number.txt>, 1, ['INDEX_ABSENT'])\n",
      "CHANGED_CODE:<Node with func:InputFileNode_0000:tag:tests-number.txt>\n",
      "RUNNING:<Node with func:InputFileNode_0000:tag:tests-number.txt>\n",
      "CHECKING_NODE:<Node with func:InputFileNode_0001:tag:tests-letter.txt>\n",
      "(<Node with func:InputFileNode_0001:tag:tests-letter.txt>, 1, ['INDEX_ABSENT'])\n",
      "CHANGED_CODE:<Node with func:InputFileNode_0001:tag:tests-letter.txt>\n",
      "RUNNING:<Node with func:InputFileNode_0001:tag:tests-letter.txt>\n",
      "CHECKING_NODE:<Node with func:out5>\n",
      "(<Node with func:out5>, 1, ['INDEX_ABSENT'])\n",
      "CHANGED_CODE:<Node with func:out5>\n",
      "RUNNING:<Node with func:out5>\n",
      "CHECKING_NODE:<Node with func:out10>\n",
      "(<Node with func:out10>, 1, ['INDEX_ABSENT'])\n",
      "CHANGED_CODE:<Node with func:out10>\n",
      "RUNNING:<Node with func:out10>\n",
      "CHECKING_NODE:<Node with func:out15>\n",
      "(<Node with func:out15>, 1, ['INDEX_ABSENT'])\n",
      "CHANGED_CODE:<Node with func:out15>\n",
      "RUNNING:<Node with func:out15>\n",
      "CHECKING_NODE:<Node with func:make_combined>\n",
      "(<Node with func:make_combined>, 1, ['INDEX_ABSENT'])\n",
      "CHANGED_CODE:<Node with func:make_combined>\n",
      "RUNNING:<Node with func:make_combined>\n",
      "END--------------------\n",
      "1a1a1a1a1a\n",
      "1a1a1a1a1a1a1a1a1a1a\n",
      "1a1a1a1a1a1a1a1a1a1a1a1a1a1a1a\n",
      "\n",
      "[FRAME_INIT] _symbolicInputNode, _symbolicOutputNode\n",
      "[indexFile] BaseFile('pipe.py.index')\n",
      "(0, 'tests-number.txt')\n",
      "(1, 'tests-letter.txt')\n",
      "START--------------------\n",
      "CHECKING_NODE:<Node with func:_symbolicInputNode>\n",
      "[CHANGED_SAME]:<Node with func:_symbolicInputNode>\n",
      "CHECKING_NODE:<Node with func:InputFileNode_0000:tag:tests-number.txt>\n",
      "[CHANGED_SAME]:<Node with func:InputFileNode_0000:tag:tests-number.txt>\n",
      "CHECKING_NODE:<Node with func:InputFileNode_0001:tag:tests-letter.txt>\n",
      "[CHANGED_SAME]:<Node with func:InputFileNode_0001:tag:tests-letter.txt>\n",
      "CHECKING_NODE:<Node with func:out5>\n",
      "[CHANGED_SAME]:<Node with func:out5>\n",
      "CHECKING_NODE:<Node with func:out10>\n",
      "[CHANGED_SAME]:<Node with func:out10>\n",
      "CHECKING_NODE:<Node with func:out15>\n",
      "[CHANGED_SAME]:<Node with func:out15>\n",
      "CHECKING_NODE:<Node with func:out10>\n",
      "[CHANGED_SAME]:<Node with func:out10>\n",
      "CHECKING_NODE:<Node with func:make_combined>\n",
      "[CHANGED_SAME]:<Node with func:make_combined>\n",
      "END--------------------\n",
      ".\n",
      "----------------------------------------------------------------------\n",
      "Ran 1 test in 0.091s\n",
      "\n",
      "OK\n"
     ]
    }
   ],
   "source": [
    "!python2 test.py testCase.test_code_syno_change"
   ]
  },
  {
   "cell_type": "code",
   "execution_count": 854,
   "metadata": {},
   "outputs": [
    {
     "name": "stdout",
     "output_type": "stream",
     "text": [
      "@Node.from_func({\n",
      "    \"OUT\":TrackedFile(\"tests-out10.txt\"),\n",
      "})\n",
      "def out10(  self, numberFile, letterFile ):\n",
      "    '''\n",
      "    some doc\n",
      "    '''\n",
      "    number = numberFile().open('r').read().strip()\n",
      "    letter = letterFile().open('r').read().strip()\n",
      "    with self.output_kw['OUT'].open(\"w\") as f:\n",
      "        f.write( 10 * (number+letter)+'\\n')\n",
      "    return\n",
      "\n",
      "@Node.from_func({\n",
      "    \"OUT\":TrackedFile(\"tests-out10.txt\"),\n",
      "})\n",
      "def out10(  self, numberFile, letterFile ):\n",
      "    \n",
      "    number = numberFile().open('r').read().strip()\n",
      "    letter = letterFile().open('r').read().strip()\n",
      "    with self.output_kw['OUT'].open(\"w\") as f:\n",
      "        f.write( 10 * (number+letter)+'\\n')\n",
      "    return\n",
      "\n"
     ]
    }
   ],
   "source": [
    "x,y = '@Node.from_func({\\n    \"OUT\":TrackedFile(\"tests-out10.txt\"),\\n})\\ndef out10(  self, numberFile, letterFile ):\\n    \\'\\'\\'\\n    some doc\\n    \\'\\'\\'\\n    number = numberFile().open(\\'r\\').read().strip()\\n    letter = letterFile().open(\\'r\\').read().strip()\\n    with self.output_kw[\\'OUT\\'].open(\"w\") as f:\\n        f.write( 10 * (number+letter)+\\'\\\\n\\')\\n    return\\n', '@Node.from_func({\\n    \"OUT\":TrackedFile(\"tests-out10.txt\"),\\n})\\ndef out10(  self, numberFile, letterFile ):\\n    \\n    number = numberFile().open(\\'r\\').read().strip()\\n    letter = letterFile().open(\\'r\\').read().strip()\\n    with self.output_kw[\\'OUT\\'].open(\"w\") as f:\\n        f.write( 10 * (number+letter)+\\'\\\\n\\')\\n    return\\n'\n",
    "print x\n",
    "print y\n"
   ]
  }
 ],
 "metadata": {
  "kernelspec": {
   "display_name": "Python 2",
   "language": "python",
   "name": "python2"
  },
  "language_info": {
   "codemirror_mode": {
    "name": "ipython",
    "version": 2
   },
   "file_extension": ".py",
   "mimetype": "text/x-python",
   "name": "python",
   "nbconvert_exporter": "python",
   "pygments_lexer": "ipython2",
   "version": "2.7.15rc1"
  }
 },
 "nbformat": 4,
 "nbformat_minor": 2
}
