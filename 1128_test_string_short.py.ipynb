{
 "cells": [
  {
   "cell_type": "code",
   "execution_count": 56,
   "metadata": {},
   "outputs": [
    {
     "name": "stdout",
     "output_type": "stream",
     "text": [
      "[]\n",
      "[123]\n"
     ]
    }
   ],
   "source": [
    "from pipedata import cached_property\n",
    "some=[]\n",
    "class a():\n",
    "    @cached_property\n",
    "    def f(self):\n",
    "        return some\n",
    "print a().f\n",
    "some.append(123)\n",
    "print a().f\n"
   ]
  },
  {
   "cell_type": "code",
   "execution_count": 1,
   "metadata": {},
   "outputs": [],
   "source": [
    "!touch tests/__init__.py"
   ]
  },
  {
   "cell_type": "code",
   "execution_count": 6,
   "metadata": {},
   "outputs": [
    {
     "name": "stdout",
     "output_type": "stream",
     "text": [
      "[FRAME_INIT] _symbolicInputNode, _symbolicOutputNode\r\n",
      "[Dillable]\r\n",
      ".\r\n",
      "----------------------------------------------------------------------\r\n",
      "Ran 1 test in 0.062s\r\n",
      "\r\n",
      "OK\r\n"
     ]
    }
   ],
   "source": [
    "!python2 test.py"
   ]
  },
  {
   "cell_type": "code",
   "execution_count": null,
   "metadata": {},
   "outputs": [],
   "source": []
  },
  {
   "cell_type": "code",
   "execution_count": 23,
   "metadata": {},
   "outputs": [],
   "source": [
    "# lambda : raise Exception()"
   ]
  },
  {
   "cell_type": "code",
   "execution_count": 44,
   "metadata": {},
   "outputs": [
    {
     "name": "stdout",
     "output_type": "stream",
     "text": [
      "Overwriting test.py\n"
     ]
    }
   ],
   "source": []
  },
  {
   "cell_type": "code",
   "execution_count": 40,
   "metadata": {},
   "outputs": [
    {
     "data": {
      "text/plain": [
       "object"
      ]
     },
     "execution_count": 40,
     "metadata": {},
     "output_type": "execute_result"
    }
   ],
   "source": [
    "a = object()\n",
    "# a.__"
   ]
  },
  {
   "cell_type": "code",
   "execution_count": null,
   "metadata": {},
   "outputs": [],
   "source": [
    "import dill\n",
    "d = dill.loads(open('test_build/pipe.py.index','r').read())\n",
    "d"
   ]
  },
  {
   "cell_type": "code",
   "execution_count": 18,
   "metadata": {
    "scrolled": true
   },
   "outputs": [
    {
     "name": "stdout",
     "output_type": "stream",
     "text": [
      "[FRAME_INIT] _symbolicInputNode, _symbolicOutputNode\n",
      "[indexFile] BaseFile('tests/example_string_short.py.index')\n",
      "(0, 'tests-number.txt')\n",
      "(1, 'tests-letter.txt')\n",
      "[CMD]\n",
      "    echo \"1\"> tests-number.txt; \n",
      "    echo a>tests-letter.txt; \n",
      "            \n",
      "\n",
      "[FRAME_INIT] _symbolicInputNode, _symbolicOutputNode\n",
      "[indexFile] BaseFile('pipe.py.index')\n",
      "(0, 'tests-number.txt')\n",
      "(1, 'tests-letter.txt')\n",
      "START--------------------\n",
      "CHECKING_NODE:<Node with func:_symbolicInputNode>\n",
      "(<Node with func:_symbolicInputNode>, 1, ['INDEX_ABSENT'])\n",
      "CHANGED_CODE:<Node with func:_symbolicInputNode>\n",
      "RUNNING:<Node with func:_symbolicInputNode>\n",
      "CHECKING_NODE:<Node with func:InputFileNode_0000:tag:tests-number.txt>\n",
      "(<Node with func:InputFileNode_0000:tag:tests-number.txt>, 1, ['INDEX_ABSENT'])\n",
      "CHANGED_CODE:<Node with func:InputFileNode_0000:tag:tests-number.txt>\n",
      "RUNNING:<Node with func:InputFileNode_0000:tag:tests-number.txt>\n",
      "CHECKING_NODE:<Node with func:InputFileNode_0001:tag:tests-letter.txt>\n",
      "(<Node with func:InputFileNode_0001:tag:tests-letter.txt>, 1, ['INDEX_ABSENT'])\n",
      "CHANGED_CODE:<Node with func:InputFileNode_0001:tag:tests-letter.txt>\n",
      "RUNNING:<Node with func:InputFileNode_0001:tag:tests-letter.txt>\n",
      "CHECKING_NODE:<Node with func:out5>\n",
      "(<Node with func:out5>, 1, ['INDEX_ABSENT'])\n",
      "CHANGED_CODE:<Node with func:out5>\n",
      "RUNNING:<Node with func:out5>\n",
      "CHECKING_NODE:<Node with func:out10>\n",
      "(<Node with func:out10>, 1, ['INDEX_ABSENT'])\n",
      "CHANGED_CODE:<Node with func:out10>\n",
      "RUNNING:<Node with func:out10>\n",
      "CHECKING_NODE:<Node with func:out15>\n",
      "(<Node with func:out15>, 1, ['INDEX_ABSENT'])\n",
      "CHANGED_CODE:<Node with func:out15>\n",
      "RUNNING:<Node with func:out15>\n",
      "CHECKING_NODE:<Node with func:make_combined>\n",
      "(<Node with func:make_combined>, 1, ['INDEX_ABSENT'])\n",
      "CHANGED_CODE:<Node with func:make_combined>\n",
      "RUNNING:<Node with func:make_combined>\n",
      "END--------------------\n",
      "1a1a1a1a1a\n",
      "1a1a1a1a1a1a1a1a1a1a\n",
      "1a1a1a1a1a1a1a1a1a1a1a1a1a1a1a\n",
      "\n",
      "[FRAME_INIT] _symbolicInputNode, _symbolicOutputNode\n",
      "[indexFile] BaseFile('pipe.py.index')\n",
      "(0, 'tests-number.txt')\n",
      "(1, 'tests-letter.txt')\n",
      "START--------------------\n",
      "CHECKING_NODE:<Node with func:_symbolicInputNode>\n",
      "[CHANGED_SAME]:<Node with func:_symbolicInputNode>\n",
      "CHECKING_NODE:<Node with func:InputFileNode_0000:tag:tests-number.txt>\n",
      "[CHANGED_SAME]:<Node with func:InputFileNode_0000:tag:tests-number.txt>\n",
      "CHECKING_NODE:<Node with func:InputFileNode_0001:tag:tests-letter.txt>\n",
      "[CHANGED_SAME]:<Node with func:InputFileNode_0001:tag:tests-letter.txt>\n",
      "CHECKING_NODE:<Node with func:out5>\n",
      "[CHANGED_SAME]:<Node with func:out5>\n",
      "CHECKING_NODE:<Node with func:out10>\n",
      "[CHANGED_SAME]:<Node with func:out10>\n",
      "CHECKING_NODE:<Node with func:out15>\n",
      "[CHANGED_SAME]:<Node with func:out15>\n",
      "CHECKING_NODE:<Node with func:out10>\n",
      "[CHANGED_SAME]:<Node with func:out10>\n",
      "CHECKING_NODE:<Node with func:make_combined>\n",
      "[CHANGED_SAME]:<Node with func:make_combined>\n",
      "END--------------------\n",
      ".\n",
      "----------------------------------------------------------------------\n",
      "Ran 1 test in 0.064s\n",
      "\n",
      "OK\n"
     ]
    }
   ],
   "source": [
    "!python2 test.py testCase.test_code_syno_change"
   ]
  },
  {
   "cell_type": "code",
   "execution_count": 28,
   "metadata": {},
   "outputs": [
    {
     "name": "stdout",
     "output_type": "stream",
     "text": [
      "[FRAME_INIT] _symbolicInputNode, _symbolicOutputNode\n",
      "[indexFile] BaseFile('tests/example_string_short.py.index')\n",
      "(0, 'tests-number.txt')\n",
      "(1, 'tests-letter.txt')\n",
      "[CMD]\n",
      "    echo \"1\"> tests-number.txt; \n",
      "    echo a>tests-letter.txt; \n",
      "            \n",
      "\n",
      "[FRAME_INIT] _symbolicInputNode, _symbolicOutputNode\n",
      "[indexFile] BaseFile('pipe.py.index')\n",
      "(0, 'tests-number.txt')\n",
      "(1, 'tests-letter.txt')\n",
      "START--------------------\n",
      "CHECKING_NODE:<Node with func:_symbolicInputNode>\n",
      "(<Node with func:_symbolicInputNode>, 1, ['INDEX_ABSENT'])\n",
      "CHANGED_CODE:<Node with func:_symbolicInputNode>\n",
      "RUNNING:<Node with func:_symbolicInputNode>\n",
      "CHECKING_NODE:<Node with func:InputFileNode_0000:tag:tests-number.txt>\n",
      "(<Node with func:InputFileNode_0000:tag:tests-number.txt>, 1, ['INDEX_ABSENT'])\n",
      "CHANGED_CODE:<Node with func:InputFileNode_0000:tag:tests-number.txt>\n",
      "RUNNING:<Node with func:InputFileNode_0000:tag:tests-number.txt>\n",
      "CHECKING_NODE:<Node with func:InputFileNode_0001:tag:tests-letter.txt>\n",
      "(<Node with func:InputFileNode_0001:tag:tests-letter.txt>, 1, ['INDEX_ABSENT'])\n",
      "CHANGED_CODE:<Node with func:InputFileNode_0001:tag:tests-letter.txt>\n",
      "RUNNING:<Node with func:InputFileNode_0001:tag:tests-letter.txt>\n",
      "CHECKING_NODE:<Node with func:out5>\n",
      "(<Node with func:out5>, 1, ['INDEX_ABSENT'])\n",
      "CHANGED_CODE:<Node with func:out5>\n",
      "RUNNING:<Node with func:out5>\n",
      "CHECKING_NODE:<Node with func:out10>\n",
      "(<Node with func:out10>, 1, ['INDEX_ABSENT'])\n",
      "CHANGED_CODE:<Node with func:out10>\n",
      "RUNNING:<Node with func:out10>\n",
      "CHECKING_NODE:<Node with func:out15>\n",
      "(<Node with func:out15>, 1, ['INDEX_ABSENT'])\n",
      "CHANGED_CODE:<Node with func:out15>\n",
      "RUNNING:<Node with func:out15>\n",
      "CHECKING_NODE:<Node with func:make_combined>\n",
      "(<Node with func:make_combined>, 1, ['INDEX_ABSENT'])\n",
      "CHANGED_CODE:<Node with func:make_combined>\n",
      "RUNNING:<Node with func:make_combined>\n",
      "END--------------------\n",
      "1a1a1a1a1a\n",
      "1a1a1a1a1a1a1a1a1a1a\n",
      "1a1a1a1a1a1a1a1a1a1a1a1a1a1a1a\n",
      "\n",
      "[FRAME_INIT] _symbolicInputNode, _symbolicOutputNode\n",
      "[indexFile] BaseFile('pipe.py.index')\n",
      "(0, 'tests-number.txt')\n",
      "(1, 'tests-letter.txt')\n",
      "START--------------------\n",
      "CHECKING_NODE:<Node with func:_symbolicInputNode>\n",
      "[CHANGED_SAME]:<Node with func:_symbolicInputNode>\n",
      "CHECKING_NODE:<Node with func:InputFileNode_0000:tag:tests-number.txt>\n",
      "[CHANGED_SAME]:<Node with func:InputFileNode_0000:tag:tests-number.txt>\n",
      "CHECKING_NODE:<Node with func:InputFileNode_0001:tag:tests-letter.txt>\n",
      "[CHANGED_SAME]:<Node with func:InputFileNode_0001:tag:tests-letter.txt>\n",
      "CHECKING_NODE:<Node with func:out5>\n",
      "[CHANGED_SAME]:<Node with func:out5>\n",
      "CHECKING_NODE:<Node with func:out10>\n",
      "[CHANGED_SAME]:<Node with func:out10>\n",
      "CHECKING_NODE:<Node with func:out15>\n",
      "[CHANGED_SAME]:<Node with func:out15>\n",
      "CHECKING_NODE:<Node with func:out10>\n",
      "[CHANGED_SAME]:<Node with func:out10>\n",
      "CHECKING_NODE:<Node with func:make_combined>\n",
      "[CHANGED_SAME]:<Node with func:make_combined>\n",
      "END--------------------\n",
      ".\n",
      "----------------------------------------------------------------------\n",
      "Ran 1 test in 0.091s\n",
      "\n",
      "OK\n"
     ]
    }
   ],
   "source": [
    "!python2 test.py testCase.test_code_syno_change"
   ]
  },
  {
   "cell_type": "code",
   "execution_count": 854,
   "metadata": {},
   "outputs": [
    {
     "name": "stdout",
     "output_type": "stream",
     "text": [
      "@Node.from_func({\n",
      "    \"OUT\":TrackedFile(\"tests-out10.txt\"),\n",
      "})\n",
      "def out10(  self, numberFile, letterFile ):\n",
      "    '''\n",
      "    some doc\n",
      "    '''\n",
      "    number = numberFile().open('r').read().strip()\n",
      "    letter = letterFile().open('r').read().strip()\n",
      "    with self.output_kw['OUT'].open(\"w\") as f:\n",
      "        f.write( 10 * (number+letter)+'\\n')\n",
      "    return\n",
      "\n",
      "@Node.from_func({\n",
      "    \"OUT\":TrackedFile(\"tests-out10.txt\"),\n",
      "})\n",
      "def out10(  self, numberFile, letterFile ):\n",
      "    \n",
      "    number = numberFile().open('r').read().strip()\n",
      "    letter = letterFile().open('r').read().strip()\n",
      "    with self.output_kw['OUT'].open(\"w\") as f:\n",
      "        f.write( 10 * (number+letter)+'\\n')\n",
      "    return\n",
      "\n"
     ]
    }
   ],
   "source": [
    "x,y = '@Node.from_func({\\n    \"OUT\":TrackedFile(\"tests-out10.txt\"),\\n})\\ndef out10(  self, numberFile, letterFile ):\\n    \\'\\'\\'\\n    some doc\\n    \\'\\'\\'\\n    number = numberFile().open(\\'r\\').read().strip()\\n    letter = letterFile().open(\\'r\\').read().strip()\\n    with self.output_kw[\\'OUT\\'].open(\"w\") as f:\\n        f.write( 10 * (number+letter)+\\'\\\\n\\')\\n    return\\n', '@Node.from_func({\\n    \"OUT\":TrackedFile(\"tests-out10.txt\"),\\n})\\ndef out10(  self, numberFile, letterFile ):\\n    \\n    number = numberFile().open(\\'r\\').read().strip()\\n    letter = letterFile().open(\\'r\\').read().strip()\\n    with self.output_kw[\\'OUT\\'].open(\"w\") as f:\\n        f.write( 10 * (number+letter)+\\'\\\\n\\')\\n    return\\n'\n",
    "print x\n",
    "print y\n"
   ]
  }
 ],
 "metadata": {
  "kernelspec": {
   "display_name": "Python 2",
   "language": "python",
   "name": "python2"
  },
  "language_info": {
   "codemirror_mode": {
    "name": "ipython",
    "version": 2
   },
   "file_extension": ".py",
   "mimetype": "text/x-python",
   "name": "python",
   "nbconvert_exporter": "python",
   "pygments_lexer": "ipython2",
   "version": "2.7.15rc1"
  }
 },
 "nbformat": 4,
 "nbformat_minor": 2
}
