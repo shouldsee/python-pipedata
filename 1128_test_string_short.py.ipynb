{
 "cells": [
  {
   "cell_type": "code",
   "execution_count": null,
   "metadata": {},
   "outputs": [],
   "source": []
  },
  {
   "cell_type": "code",
   "execution_count": 59,
   "metadata": {},
   "outputs": [
    {
     "data": {
      "text/plain": [
       "()"
      ]
     },
     "execution_count": 59,
     "metadata": {},
     "output_type": "execute_result"
    }
   ],
   "source": [
    "()[1:]"
   ]
  },
  {
   "cell_type": "code",
   "execution_count": 67,
   "metadata": {},
   "outputs": [],
   "source": [
    "f = lambda:None\n",
    "f.__defaults__"
   ]
  },
  {
   "cell_type": "code",
   "execution_count": 42,
   "metadata": {},
   "outputs": [
    {
     "name": "stdout",
     "output_type": "stream",
     "text": [
      "Overwriting tests/example_string_short.py\n"
     ]
    }
   ],
   "source": [
    "%%writefile tests/example_string_short.py\n",
    "from pipedata import AutoNode as Node\n",
    "from pipedata import TrackedFile, InputTrackedFile, index_file_flush\n",
    "import os\n",
    "_node = Node\n",
    "numberFile = InputTrackedFile('number.txt')\n",
    "letterFile = InputTrackedFile('letter.txt')\n",
    "import time\n",
    "# _output_kw = Node.from_func\n",
    "@Node.from_func({\n",
    "    \"OUT\":TrackedFile(\"out5.txt\"),\n",
    "#     \"BAM\":TrackedFile( \"test.fastq.bam\"  )\n",
    "})\n",
    "def out5(  self, numberFile, letterFile ):\n",
    "    '''\n",
    "    some doc\n",
    "    '''\n",
    "    number = numberFile().open('r').read().strip()\n",
    "    letter = letterFile().open('r').read().strip()\n",
    "    with self.output_kw['OUT'].open(\"w\") as f:\n",
    "        f.write( 5 * (number+letter)+'\\n')\n",
    "    return\n",
    "\n",
    "\n",
    "@Node.from_func({\n",
    "    \"OUT\":TrackedFile(\"out10.txt\"),\n",
    "#     \"BAM\":TrackedFile( \"test.fastq.bam\"  )\n",
    "})\n",
    "def out10(  self, numberFile, letterFile ):\n",
    "    '''\n",
    "    some doc\n",
    "    '''\n",
    "    number = numberFile().open('r').read().strip()\n",
    "    letter = letterFile().open('r').read().strip()\n",
    "    with self.output_kw['OUT'].open(\"w\") as f:\n",
    "        f.write( 10 * (number+letter)+'\\n')\n",
    "    return\n",
    "\n",
    "@Node.from_func({\n",
    "    \"OUT\":TrackedFile(\"out15.txt\"),\n",
    "#     \"BAM\":TrackedFile( \"test.fastq.bam\"  )\n",
    "})\n",
    "def out15(  self, numberFile, letterFile ):\n",
    "    '''\n",
    "    some doc\n",
    "    '''\n",
    "    number = numberFile().open('r').read().strip()\n",
    "    letter = letterFile().open('r').read().strip()\n",
    "    with self.output_kw['OUT'].open(\"w\") as f:\n",
    "        f.write( 15 * (number+letter)+'\\n')\n",
    "    return\n",
    "\n",
    "\n",
    "@Node.from_func({\n",
    "    'OUT':TrackedFile('combined.txt')\n",
    "})\n",
    "def make_combined( self, out5, out10, out15, ):\n",
    "    lines = []\n",
    "    [ lines.extend(list(x()['OUT'].open('r'))) for x in [out5,\n",
    "                                                         out10,out15\n",
    "                                                        ]]\n",
    "    with self['OUT'].open('w') as f:\n",
    "        map(f.write,lines)\n",
    "    return 1\n",
    "\n",
    "\n",
    "if __name__ == '__main__':\n",
    "    \n",
    "    TrackedFile.VERBOSE=0\n",
    "    print('START'+20*\"-\")\n",
    "    os.chdir(\"tests/\")\n",
    "    res = make_combined()\n",
    "    index_file_flush(\"./test.index\")\n",
    "    print(res['OUT'].open('r').read())\n",
    "#     open(''))\n",
    "    print('END'+20*\"-\")\n",
    "    import dill\n",
    "    dill.dumps(make_combined)\n",
    "    \n",
    "#     make_bam()\n",
    "#     make_csv()\n",
    "#     print(\"[middle]\",middle())"
   ]
  },
  {
   "cell_type": "code",
   "execution_count": 59,
   "metadata": {},
   "outputs": [
    {
     "name": "stdout",
     "output_type": "stream",
     "text": [
      "Overwriting test.py\n"
     ]
    }
   ],
   "source": [
    "%%writefile test.py\n",
    "\n",
    "# import pymisca.ext as pyext\n",
    "import subprocess\n",
    "def t1():\n",
    "    test_expect = '+ mkdir -p tests\\n+ ln pipedata.py tests -f\\n+ rm -f tests/test.index tests/out10.txt tests/out15.txt tests/out5.txt\\n+ echo 1\\n+ echo a\\n+ python2 tests/example_string_short.py\\nSTART--------------------\\nRUNNING:<Node with func:make_combined>\\nRUNNING:<Node with func:out5>\\nRUNNING:<Node with func:out10>\\nRUNNING:<Node with func:out15>\\n1a1a1a1a1a\\n1a1a1a1a1a1a1a1a1a1a\\n1a1a1a1a1a1a1a1a1a1a1a1a1a1a1a\\n\\nEND--------------------\\n+ python2 tests/example_string_short.py\\nSTART--------------------\\nSKIPPING:<Node with func:make_combined>\\n1a1a1a1a1a\\n1a1a1a1a1a1a1a1a1a1a\\n1a1a1a1a1a1a1a1a1a1a1a1a1a1a1a\\n\\nEND--------------------\\n+ echo 2\\n+ echo b\\n+ python2 tests/example_string_short.py\\nSTART--------------------\\nRUNNING:<Node with func:make_combined>\\nRUNNING:<Node with func:out5>\\nRUNNING:<Node with func:out10>\\nRUNNING:<Node with func:out15>\\n2b2b2b2b2b\\n2b2b2b2b2b2b2b2b2b2b\\n2b2b2b2b2b2b2b2b2b2b2b2b2b2b2b\\n\\nEND--------------------'\n",
    "\n",
    "\n",
    "    test_cmd  = '''\n",
    "    set -x\n",
    "    exec 2>&1\n",
    "\n",
    "    mkdir -p tests\n",
    "    ln pipedata.py tests -f \n",
    "    rm -f tests/test.index tests/out*.txt\n",
    "\n",
    "    echo \"1\"> tests/number.txt; \n",
    "    echo a>tests/letter.txt; \n",
    "    python2 tests/example_string_short.py\n",
    "\n",
    "\n",
    "    python2 tests/example_string_short.py\n",
    "\n",
    "    echo \"2\">tests/number.txt; \n",
    "    echo b>tests/letter.txt; \n",
    "    python2 tests/example_string_short.py\n",
    "    '''\n",
    "    print repr(subprocess.check_output(test_cmd,shell=1).strip())\n",
    "    assert subprocess.check_output(test_cmd,shell=1).strip()==test_expect.strip()\n",
    "t1()\n"
   ]
  },
  {
   "cell_type": "code",
   "execution_count": 58,
   "metadata": {},
   "outputs": [
    {
     "name": "stdout",
     "output_type": "stream",
     "text": [
      "+ exec\n",
      "'+ mkdir -p tests\\n+ ln pipedata.py tests -f\\n+ rm -f tests/test.index tests/out10.txt tests/out15.txt tests/out5.txt\\n+ echo 1\\n+ echo a\\n+ python2 tests/example_string_short.py\\nSTART--------------------\\nRUNNING:<Node with func:make_combined>\\nRUNNING:<Node with func:out5>\\nRUNNING:<Node with func:out10>\\nRUNNING:<Node with func:out15>\\n1a1a1a1a1a\\n1a1a1a1a1a1a1a1a1a1a\\n1a1a1a1a1a1a1a1a1a1a1a1a1a1a1a\\n\\nEND--------------------\\n+ python2 tests/example_string_short.py\\nSTART--------------------\\nSKIPPING:<Node with func:make_combined>\\n1a1a1a1a1a\\n1a1a1a1a1a1a1a1a1a1a\\n1a1a1a1a1a1a1a1a1a1a1a1a1a1a1a\\n\\nEND--------------------\\n+ echo 2\\n+ echo b\\n+ python2 tests/example_string_short.py\\nSTART--------------------\\nRUNNING:<Node with func:make_combined>\\nRUNNING:<Node with func:out5>\\nRUNNING:<Node with func:out10>\\nRUNNING:<Node with func:out15>\\n2b2b2b2b2b\\n2b2b2b2b2b2b2b2b2b2b\\n2b2b2b2b2b2b2b2b2b2b2b2b2b2b2b\\n\\nEND--------------------'\n",
      "+ exec\n"
     ]
    }
   ],
   "source": [
    "!python2 test.py"
   ]
  },
  {
   "cell_type": "code",
   "execution_count": 31,
   "metadata": {
    "scrolled": false
   },
   "outputs": [
    {
     "name": "stdout",
     "output_type": "stream",
     "text": [
      "+ mkdir -p tests\n",
      "+ ln pipeline_tracker.py tests -f\n",
      "+ rm -f tests/test.index tests/out10.txt tests/out15.txt tests/out5.txt\n",
      "+ echo 1\n",
      "+ echo a\n",
      "+ python2 tests/example_string_short.py\n",
      "START--------------------\n",
      "RUNNING:<Node with func:<function make_combined at 0x7f01957d8140>>\n",
      "RUNNING:<Node with func:<function out5 at 0x7f01957d3c08>>\n",
      "RUNNING:<Node with func:<function out10 at 0x7f01957d35f0>>\n",
      "RUNNING:<Node with func:<function out15 at 0x7f01957d3ed8>>\n",
      "1a1a1a1a1a\n",
      "1a1a1a1a1a1a1a1a1a1a\n",
      "1a1a1a1a1a1a1a1a1a1a1a1a1a1a1a\n",
      "\n",
      "END--------------------\n",
      "+ python2 tests/example_string_short.py\n",
      "START--------------------\n",
      "SKIPPING:<Node with func:<function make_combined at 0x7f3307c0d140>>\n",
      "1a1a1a1a1a\n",
      "1a1a1a1a1a1a1a1a1a1a\n",
      "1a1a1a1a1a1a1a1a1a1a1a1a1a1a1a\n",
      "\n",
      "END--------------------\n",
      "+ echo 2\n",
      "+ echo b\n",
      "+ python2 tests/example_string_short.py\n",
      "START--------------------\n",
      "RUNNING:<Node with func:<function make_combined at 0x7f699b0e8140>>\n",
      "RUNNING:<Node with func:<function out5 at 0x7f699b0e3c08>>\n",
      "RUNNING:<Node with func:<function out10 at 0x7f699b0e35f0>>\n",
      "RUNNING:<Node with func:<function out15 at 0x7f699b0e3ed8>>\n",
      "2b2b2b2b2b\n",
      "2b2b2b2b2b2b2b2b2b2b\n",
      "2b2b2b2b2b2b2b2b2b2b2b2b2b2b2b\n",
      "\n",
      "END--------------------\n"
     ]
    },
    {
     "name": "stderr",
     "output_type": "stream",
     "text": [
      "+ exec\n"
     ]
    }
   ],
   "source": [
    "%%bash \n",
    "set -x\n",
    "exec 2>&1\n",
    "\n",
    "mkdir -p tests\n",
    "ln pipeline_tracker.py tests -f \n",
    "rm -f tests/test.index tests/out*.txt\n",
    "\n",
    "echo \"1\"> tests/number.txt; \n",
    "echo a>tests/letter.txt; \n",
    "python2 tests/example_string_shaort.py\n",
    "\n",
    "\n",
    "python2 tests/example_string_short.py\n",
    "\n",
    "echo \"2\">tests/number.txt; \n",
    "echo b>tests/letter.txt; \n",
    "python2 tests/example_string_short.py\n",
    "\n"
   ]
  },
  {
   "cell_type": "code",
   "execution_count": 11,
   "metadata": {},
   "outputs": [
    {
     "ename": "SyntaxError",
     "evalue": "invalid syntax (<ipython-input-11-1bd562f80a83>, line 1)",
     "output_type": "error",
     "traceback": [
      "\u001b[0;36m  File \u001b[0;32m\"<ipython-input-11-1bd562f80a83>\"\u001b[0;36m, line \u001b[0;32m1\u001b[0m\n\u001b[0;31m    print (1,end='')\u001b[0m\n\u001b[0m                ^\u001b[0m\n\u001b[0;31mSyntaxError\u001b[0m\u001b[0;31m:\u001b[0m invalid syntax\n"
     ]
    }
   ],
   "source": [
    "# print (1,end='')"
   ]
  },
  {
   "cell_type": "code",
   "execution_count": 131,
   "metadata": {
    "scrolled": false
   },
   "outputs": [
    {
     "name": "stdout",
     "output_type": "stream",
     "text": [
      "[CheckingChange]:out5.txt.changed=1.state=ABSENT\n",
      "[CheckingChange]:out10.txt.changed=1.state=ABSENT\n",
      "[CheckingChange]:out15.txt.changed=1.state=ABSENT\n",
      "[CheckingChange]:number.txt.changed=1.state=ABSENT\n",
      "[CheckingChange]:letter.txt.changed=1.state=ABSENT\n",
      "RUNNING:<Node with func:<function out5 at 0x7ff374f4cc80>>\n",
      "[CheckingChange]:number.txt.changed=1.state=ABSENT\n",
      "[CheckingChange]:letter.txt.changed=1.state=ABSENT\n",
      "RUNNING:<Node with func:<function out10 at 0x7ff374f4c758>>\n",
      "[CheckingChange]:number.txt.changed=1.state=ABSENT\n",
      "[CheckingChange]:letter.txt.changed=1.state=ABSENT\n",
      "RUNNING:<Node with func:<function out15 at 0x7ff374f4cf50>>\n",
      "[CheckingChange]:number.txt.changed=1.state=ABSENT\n",
      "[CheckingChange]:letter.txt.changed=1.state=ABSENT\n",
      "RUNNING:<Node with func:<function out5 at 0x7ff374f4cc80>>\n",
      "out5.txt\n",
      "['1a1a1a1a1a\\n', '1a1a1a1a1a1a1a1a1a1a\\n', '1a1a1a1a1a1a1a1a1a1a1a1a1a1a1a\\n']\n",
      "1a1a1a1a1a\n",
      "1a1a1a1a1a1a1a1a1a1a\n",
      "1a1a1a1a1a1a1a1a1a1a1a1a1a1a1a\n",
      "out5.txt [(1574977942.311284, 1574978489.4967468), (11, 11)]\n",
      "[CheckingChange]:out5.txt.changed=1.state=DIFF\n",
      "out10.txt [(1574977942.307284, 1574978489.4967468), (21, 21)]\n",
      "[CheckingChange]:out10.txt.changed=1.state=DIFF\n",
      "out15.txt [(1574977942.311284, 1574978489.4967468), (31, 31)]\n",
      "[CheckingChange]:out15.txt.changed=1.state=DIFF\n",
      "[CheckingChange]:number.txt.changed=0.state=SAME\n",
      "[CheckingChange]:letter.txt.changed=0.state=SAME\n",
      "SKIPPING:<Node with func:<function out5 at 0x7fc8ab4e2c80>>\n",
      "[CheckingChange]:number.txt.changed=0.state=SAME\n",
      "[CheckingChange]:letter.txt.changed=0.state=SAME\n",
      "SKIPPING:<Node with func:<function out10 at 0x7fc8ab4e2758>>\n",
      "[CheckingChange]:number.txt.changed=0.state=SAME\n",
      "[CheckingChange]:letter.txt.changed=0.state=SAME\n",
      "SKIPPING:<Node with func:<function out15 at 0x7fc8ab4e2f50>>\n",
      "[CheckingChange]:number.txt.changed=0.state=SAME\n",
      "[CheckingChange]:letter.txt.changed=0.state=SAME\n",
      "SKIPPING:<Node with func:<function out5 at 0x7fc8ab4e2c80>>\n",
      "out5.txt\n",
      "['1a1a1a1a1a\\n', '1a1a1a1a1a1a1a1a1a1a\\n', '1a1a1a1a1a1a1a1a1a1a1a1a1a1a1a\\n']\n",
      "out5.txt [(1574977942.311284, 1574978489.4967468), (11, 11)]\n",
      "[CheckingChange]:out5.txt.changed=1.state=DIFF\n",
      "out10.txt [(1574977942.307284, 1574978489.4967468), (21, 21)]\n",
      "[CheckingChange]:out10.txt.changed=1.state=DIFF\n",
      "out15.txt [(1574977942.311284, 1574978489.4967468), (31, 31)]\n",
      "[CheckingChange]:out15.txt.changed=1.state=DIFF\n",
      "number.txt [(1574978489.3887465, 1574978489.5807471), (2, 2)]\n",
      "[CheckingChange]:number.txt.changed=1.state=DIFF\n",
      "letter.txt [(1574978489.3927464, 1574978489.5807471), (2, 2)]\n",
      "[CheckingChange]:letter.txt.changed=1.state=DIFF\n",
      "RUNNING:<Node with func:<function out5 at 0x7fb147672c80>>\n",
      "number.txt [(1574978489.3887465, 1574978489.5807471), (2, 2)]\n",
      "[CheckingChange]:number.txt.changed=1.state=DIFF\n",
      "letter.txt [(1574978489.3927464, 1574978489.5807471), (2, 2)]\n",
      "[CheckingChange]:letter.txt.changed=1.state=DIFF\n",
      "RUNNING:<Node with func:<function out10 at 0x7fb147672758>>\n",
      "number.txt [(1574978489.3887465, 1574978489.5807471), (2, 2)]\n",
      "[CheckingChange]:number.txt.changed=1.state=DIFF\n",
      "letter.txt [(1574978489.3927464, 1574978489.5807471), (2, 2)]\n",
      "[CheckingChange]:letter.txt.changed=1.state=DIFF\n",
      "RUNNING:<Node with func:<function out15 at 0x7fb147672f50>>\n",
      "number.txt [(1574978489.3887465, 1574978489.5807471), (2, 2)]\n",
      "[CheckingChange]:number.txt.changed=1.state=DIFF\n",
      "letter.txt [(1574978489.3927464, 1574978489.5807471), (2, 2)]\n",
      "[CheckingChange]:letter.txt.changed=1.state=DIFF\n",
      "RUNNING:<Node with func:<function out5 at 0x7fb147672c80>>\n",
      "out5.txt\n",
      "['2b2b2b2b2b\\n', '2b2b2b2b2b2b2b2b2b2b\\n', '2b2b2b2b2b2b2b2b2b2b2b2b2b2b2b\\n']\n"
     ]
    },
    {
     "name": "stderr",
     "output_type": "stream",
     "text": [
      "+ ln pipeline_tracker.py tests -f\n",
      "+ rm -f tests/test.index\n",
      "+ echo 1\n",
      "+ echo a\n",
      "+ python2 tests/example_string_long.py\n",
      "\n",
      "real\t0m0.116s\n",
      "user\t0m0.096s\n",
      "sys\t0m0.016s\n",
      "+ cat tests/combined.txt\n",
      "+ python2 tests/example_string_long.py\n",
      "\n",
      "real\t0m0.072s\n",
      "user\t0m0.068s\n",
      "sys\t0m0.000s\n",
      "+ echo 2\n",
      "+ echo b\n",
      "+ python2 tests/example_string_long.py\n",
      "\n",
      "real\t0m0.069s\n",
      "user\t0m0.060s\n",
      "sys\t0m0.004s\n"
     ]
    }
   ],
   "source": [
    "%%bash \n",
    "set -x\n",
    "ln pipeline_tracker.py tests -f \n",
    "rm -f tests/test.index\n",
    "echo \"1\">tests/number.txt; \n",
    "echo a>tests/letter.txt; \n",
    "time python2 tests/example_string_long.py\n",
    "cat tests/combined.txt\n",
    "\n",
    "time python2 tests/example_string_long.py\n",
    "echo \"2\">tests/number.txt; \n",
    "echo b>tests/letter.txt; \n",
    "time python2 tests/example_string_long.py\n"
   ]
  },
  {
   "cell_type": "code",
   "execution_count": 23,
   "metadata": {},
   "outputs": [
    {
     "name": "stdout",
     "output_type": "stream",
     "text": [
      "Overwriting example_bio.py\n"
     ]
    }
   ],
   "source": [
    "%%writefile example_bio.py\n",
    "from pipeline_tracker import Node,TrackedFile, InputTrackedFile\n",
    "import os\n",
    "_node = Node\n",
    "INPUT_FILE = InputTrackedFile('test_R1_.fastq')\n",
    "INPUT_GENOME = InputTrackedFile('test.fa')\n",
    "\n",
    "# _output_kw = Node.from_func\n",
    "@Node.from_func({\n",
    "    \"BAM\":TrackedFile( \"test.fastq.bam\"  )\n",
    "})\n",
    "def make_bam(  self, INPUT_FILE ):\n",
    "    '''\n",
    "    some doc\n",
    "    '''\n",
    "#     if INPUT_FILE().changed():\n",
    "    if self.upstream_changed():\n",
    "        print(\"RUNNING:%s\"%self)\n",
    "        lines = list( INPUT_FILE().open('r') )\n",
    "        with self.output_kw['BAM'].open(\"w\") as f:\n",
    "            f.write(str(lines))\n",
    "    else:\n",
    "        print(\"SKIPPING:%s\"%self)\n",
    "        pass\n",
    "    return\n",
    "\n",
    "\n",
    "@Node.from_func({\n",
    "})\n",
    "def make_csv( self, make_bam=make_bam, ):\n",
    "    make_bam()\n",
    "#     print make_bam()['BAM']\n",
    "    return 1\n",
    "\n",
    "\n",
    "if __name__ == '__main__':\n",
    "    os.chdir(\"tests/\")\n",
    "    make_bam()\n",
    "    make_csv()\n",
    "#     print(\"[middle]\",middle())"
   ]
  },
  {
   "cell_type": "code",
   "execution_count": 26,
   "metadata": {},
   "outputs": [],
   "source": [
    "import json\n",
    "# json.load(object_pairs_hook=_dict)\n",
    "# json.dump()"
   ]
  },
  {
   "cell_type": "code",
   "execution_count": 15,
   "metadata": {},
   "outputs": [],
   "source": [
    "!touch tests/test.index"
   ]
  },
  {
   "cell_type": "code",
   "execution_count": null,
   "metadata": {},
   "outputs": [],
   "source": [
    "from pymisca.shell import file__notEmpty"
   ]
  },
  {
   "cell_type": "code",
   "execution_count": 51,
   "metadata": {},
   "outputs": [],
   "source": [
    "# ! rm tests/\n",
    "# !rm i\n",
    "# !tree\n"
   ]
  },
  {
   "cell_type": "code",
   "execution_count": 53,
   "metadata": {},
   "outputs": [
    {
     "name": "stdout",
     "output_type": "stream",
     "text": [
      "ABSENT\r\n",
      "[CheckingChange]:test_R1_.fastq.changed=1\r\n",
      "RUNNING:<Node with func:<function make_bam at 0x7f34b26bcb18>>\r\n",
      "[CheckingChange]:test_R1_.fastq.changed=0\r\n",
      "SKIPPING:<Node with func:<function make_bam at 0x7f34b26bcb18>>\r\n"
     ]
    }
   ],
   "source": [
    "! rm */*.index \n",
    "! python2 example_bio.py"
   ]
  },
  {
   "cell_type": "code",
   "execution_count": 33,
   "metadata": {},
   "outputs": [
    {
     "data": {
      "text/plain": [
       "posix.stat_result(st_mode=33188, st_ino=3557096, st_dev=2053, st_nlink=1, st_uid=1000, st_gid=1000, st_size=539, st_atime=1574954182, st_mtime=1567113369, st_ctime=1567113369)"
      ]
     },
     "execution_count": 33,
     "metadata": {},
     "output_type": "execute_result"
    }
   ],
   "source": [
    "import os\n",
    "os.stat('example.py')"
   ]
  },
  {
   "cell_type": "code",
   "execution_count": 32,
   "metadata": {},
   "outputs": [],
   "source": [
    "import example_bio\n",
    "reload(example_bio)\n",
    "import pipeline_tracker\n",
    "reload(pipeline_tracker)\n",
    "from example_bio import make_bam\n",
    "# make_bam.func?\n",
    "make_bam.input_kw\n",
    "pipeline_tracker.TrackedFile.changed??\n"
   ]
  },
  {
   "cell_type": "code",
   "execution_count": 113,
   "metadata": {},
   "outputs": [
    {
     "name": "stdout",
     "output_type": "stream",
     "text": [
      "RUNNING:<Node with func:<function make_bam at 0x7f281dd472a8>>\r\n",
      "RUNNING:<Node with func:<function make_bam at 0x7f281dd472a8>>\r\n"
     ]
    }
   ],
   "source": [
    "# %pdb 1\n",
    "!python2 example_bio.py"
   ]
  },
  {
   "cell_type": "code",
   "execution_count": null,
   "metadata": {},
   "outputs": [],
   "source": []
  },
  {
   "cell_type": "code",
   "execution_count": 118,
   "metadata": {},
   "outputs": [
    {
     "name": "stdout",
     "output_type": "stream",
     "text": [
      "a 123\n",
      "b 2\n"
     ]
    }
   ],
   "source": [
    "import inspect\n",
    "def f(a,b=2,*a1,**kw):\n",
    "    print 'a',a\n",
    "    print 'b',b\n",
    "    def g():\n",
    "        return \n",
    "    return g\n",
    "(args, varargs, keywords, defaults) = inspect.getargspec(f)\n",
    "a= 123\n",
    "f.func_defaults = (a,) + f.func_defaults\n",
    "g = f()\n"
   ]
  },
  {
   "cell_type": "code",
   "execution_count": 113,
   "metadata": {},
   "outputs": [
    {
     "name": "stdout",
     "output_type": "stream",
     "text": [
      "a 123\n",
      "b 2\n"
     ]
    }
   ],
   "source": [
    "\n",
    "\n",
    "map(lambda x:x(f),\n",
    "    [\n",
    "#     inspect.getargs,\n",
    "    inspect.getargspec,\n",
    "#     inspect.getargvalues,\n",
    "    ]\n",
    ")\n",
    "f()"
   ]
  },
  {
   "cell_type": "code",
   "execution_count": 87,
   "metadata": {},
   "outputs": [
    {
     "name": "stdout",
     "output_type": "stream",
     "text": [
      "123 () {}\n",
      "RUNNING:<function make_bam at 0x7fe6f77e5410>\n",
      "\n",
      "==> test_R1_.fastq <==\n",
      "@NB501178:126:HLCC2BGXY:1:11101:18422:1050 1:N:0:TCTCGCGC+NCCTCTAT\n",
      "CACCTNGTATCACTTCCAAGGCATATGATAGTTTGATTATCTGTGGACGATTTCTTTCTCGTGCAATGCCGTTTC\n",
      "+\n",
      "AAAAA#EEEEEEEEEEEEEEEEEEAEEEEEEEEEEEEEEEEEEEEEEEEEEEEEEEEEEEEEEEEEEEAEEEEEE\n",
      "@NB501178:126:HLCC2BGXY:1:11101:5478:1050 1:N:0:TCTCGCGC+NCCTCTAT\n",
      "TCTTGNCTTTTTTCGTTTTTTTTTACTTTATTTTGCAAATCTGAATGACAATGATGCTCAAAGTGAATGTTATTCG\n",
      "+\n",
      "AAAAA#EEEEEEEEEEEEEAE/EE6/EEE/AAEEEEEEEEEEEE/A//A//EA/EE/EEEEEEEEEEA/EEEEEEA\n",
      "\n",
      "==> test.fastq.bam <==\n",
      "['@NB501178:126:HLCC2BGXY:1:11101:18422:1050 1:N:0:TCTCGCGC+NCCTCTAT\\n', 'CACCTNGTATCACTTCCAAGGCATATGATAGTTTGATTATCTGTGGACGATTTCTTTCTCGTGCAATGCCGTTTC\\n', '+\\n', 'AAAAA#EEEEEEEEEEEEEEEEEEAEEEEEEEEEEEEEEEEEEEEEEEEEEEEEEEEEEEEEEEEEEEAEEEEEE\\n', '@NB501178:126:HLCC2BGXY:1:11101:5478:1050 1:N:0:TCTCGCGC+NCCTCTAT\\n', 'TCTTGNCTTTTTTCGTTTTTTTTTACTTTATTTTGCAAATCTGAATGACAATGATGCTCAAAGTGAATGTTATTCG\\n', '+\\n', 'AAAAA#EEEEEEEEEEEEEAE/EE6/EEE/AAEEEEEEEEEEEE/A//A//EA/EE/EEEEEEEEEEA/EEEEEEA\\n']"
     ]
    }
   ],
   "source": [
    "# ! curl -L https://github.com/shouldsee/synoBio/raw/master/examples/data/test_R1_.fastq | head -8 > tests/test_R1_.fastq\n",
    "! python2 example_bio.py\n",
    "! echo\n",
    "! cd tests/ && head *.fastq *.bam\n",
    "# !cat tests/*."
   ]
  }
 ],
 "metadata": {
  "kernelspec": {
   "display_name": "Python 2",
   "language": "python",
   "name": "python2"
  },
  "language_info": {
   "codemirror_mode": {
    "name": "ipython",
    "version": 2
   },
   "file_extension": ".py",
   "mimetype": "text/x-python",
   "name": "python",
   "nbconvert_exporter": "python",
   "pygments_lexer": "ipython2",
   "version": "2.7.15rc1"
  }
 },
 "nbformat": 4,
 "nbformat_minor": 2
}
